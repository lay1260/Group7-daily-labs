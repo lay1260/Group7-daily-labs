{
 "cells": [
  {
   "cell_type": "code",
   "execution_count": 2,
   "id": "initial_id",
   "metadata": {
    "is_executing": true
   },
   "outputs": [],
   "source": [
    "# 导入必要的库\n",
    "import pandas as pd\n",
    "import numpy as np\n",
    "import matplotlib.pyplot as plt\n",
    "import seaborn as sns"
   ]
  },
  {
   "cell_type": "code",
   "execution_count": 3,
   "id": "8db6d6ebbc19a4b8",
   "metadata": {
    "collapsed": false,
    "is_executing": true
   },
   "outputs": [],
   "source": [
    "\n",
    "df = pd.read_csv(\"C:\\\\Users\\\\33566\\\\Downloads\\\\Pokemon.csv\", encoding='latin-1')\n"
   ]
  },
  {
   "cell_type": "code",
   "execution_count": 5,
   "id": "72aa80a4-635e-423c-8ce9-f525661aa318",
   "metadata": {
    "is_executing": true
   },
   "outputs": [
    {
     "name": "stdout",
     "output_type": "stream",
     "text": [
      "最后5行数据:\n",
      "             #       Name     Type 1     Type 2      Total         HP  \\\n",
      "805        721  Volcanion       Fire      Water        600         80   \n",
      "806  undefined  undefined  undefined  undefined  undefined  undefined   \n",
      "807  undefined  undefined  undefined  undefined  undefined  undefined   \n",
      "808        NaN        NaN        NaN        NaN        NaN        NaN   \n",
      "809        NaN        NaN        NaN        NaN        NaN        NaN   \n",
      "\n",
      "        Attack    Defense    Sp. Atk    Sp. Def      Speed Generation  \\\n",
      "805        110        120        130         90         70          6   \n",
      "806  undefined  undefined  undefined  undefined  undefined  undefined   \n",
      "807  undefined  undefined  undefined  undefined  undefined  undefined   \n",
      "808        NaN        NaN        NaN        NaN        NaN        NaN   \n",
      "809        NaN        NaN        NaN        NaN        NaN        NaN   \n",
      "\n",
      "     Legendary  \n",
      "805       TRUE  \n",
      "806  undefined  \n",
      "807  undefined  \n",
      "808             \n",
      "809             \n"
     ]
    }
   ],
   "source": [
    "# 2. 查看并删除末尾无意义数据\n",
    "print(\"最后5行数据:\")\n",
    "print(df.tail())\n",
    "\n",
    "# 删除最后四行无意义数据\n",
    "df_clean = df.iloc[:-4].copy()"
   ]
  },
  {
   "cell_type": "code",
   "execution_count": 6,
   "id": "946410ba-5575-4e95-8f2f-ac46bba047cb",
   "metadata": {
    "is_executing": true
   },
   "outputs": [
    {
     "name": "stdout",
     "output_type": "stream",
     "text": [
      "Type 2列唯一值:\n",
      "['Poison' nan 'Flying' 'Dragon' '0' 'Ground' '273' 'Fairy' 'Grass'\n",
      " 'Fighting' 'Psychic' 'Steel' 'Ice' 'A' 'Rock' 'Dark' 'Water' 'Electric'\n",
      " 'Fire' 'Ghost' 'Bug' 'BBB' 'Normal']\n",
      "\n",
      "Type 2值分布:\n",
      "Type 2\n",
      "Flying      98\n",
      "Poison      37\n",
      "Ground      35\n",
      "Psychic     33\n",
      "Fighting    26\n",
      "Grass       25\n",
      "Fairy       23\n",
      "Steel       22\n",
      "Dark        20\n",
      "Dragon      18\n",
      "Rock        14\n",
      "Ghost       14\n",
      "Water       14\n",
      "Ice         14\n",
      "Fire        12\n",
      "Electric     6\n",
      "Normal       4\n",
      "Bug          3\n",
      "A            1\n",
      "273          1\n",
      "0            1\n",
      "BBB          1\n",
      "Name: count, dtype: int64\n"
     ]
    }
   ],
   "source": [
    "# 3. 处理Type 2列的异常值\n",
    "# 查看Type 2列的唯一值\n",
    "print(\"Type 2列唯一值:\")\n",
    "print(df_clean['Type 2'].unique())\n",
    "\n",
    "# 查看Type 2列的值分布\n",
    "type2_counts = df_clean['Type 2'].value_counts()\n",
    "print(\"\\nType 2值分布:\")\n",
    "print(type2_counts)\n",
    "\n",
    "# 将错误项替换为NaN\n",
    "df_clean['Type 2'] = df_clean['Type 2'].replace(['A', '273', '0', 'BBB'], np.nan)\n"
   ]
  },
  {
   "cell_type": "code",
   "execution_count": 7,
   "id": "fc70f8ed-7778-45eb-bc19-53e3a583e2cb",
   "metadata": {},
   "outputs": [
    {
     "name": "stdout",
     "output_type": "stream",
     "text": [
      "重复行数量: 5\n",
      "重复的行:\n",
      "       #       Name  Type 1  Type 2 Total  HP Attack Defense Sp. Atk Sp. Def  \\\n",
      "15    11    Metapod     Bug     NaN   205  50     20      55      25      25   \n",
      "23    17  Pidgeotto  Normal  Flying   349  63     60      55      50      50   \n",
      "185  168    Ariados     Bug  Poison   390  70     90      70      60      60   \n",
      "186  168    Ariados     Bug  Poison   390  70     90      70      60      60   \n",
      "187  168    Ariados     Bug  Poison   390  70     90      70      60      60   \n",
      "\n",
      "    Speed Generation Legendary  \n",
      "15     30          1     FALSE  \n",
      "23     71          1     FALSE  \n",
      "185    40          2     FALSE  \n",
      "186    40          2     FALSE  \n",
      "187    40          2     FALSE  \n",
      "删除重复值后数据形状: (801, 13)\n"
     ]
    }
   ],
   "source": [
    "# 4. 检查并删除重复行\n",
    "duplicates = df_clean.duplicated()\n",
    "print(f\"重复行数量: {duplicates.sum()}\")\n",
    "\n",
    "if duplicates.sum() > 0:\n",
    "    print(\"重复的行:\")\n",
    "    print(df_clean[duplicates])\n",
    "    # 删除重复行，保留第一个出现的数据\n",
    "    df_clean = df_clean.drop_duplicates()\n",
    "\n",
    "print(f\"删除重复值后数据形状: {df_clean.shape}\")"
   ]
  },
  {
   "cell_type": "code",
   "execution_count": 8,
   "id": "56b097af-3768-4292-929d-5210503b852c",
   "metadata": {},
   "outputs": [
    {
     "name": "stdout",
     "output_type": "stream",
     "text": [
      "重复行数量: 0\n",
      "删除重复值后数据形状: (801, 13)\n"
     ]
    }
   ],
   "source": []
  },
  {
   "cell_type": "code",
   "execution_count": 9,
   "id": "2bdc080c-4243-403b-8973-25ae5bce0b60",
   "metadata": {},
   "outputs": [
    {
     "data": {
      "image/png": "[encoded data removed]",
      "text/plain": [
       "<Figure size 800x600 with 1 Axes>"
      ]
     },
     "metadata": {},
     "output_type": "display_data"
    },
    {
     "name": "stdout",
     "output_type": "stream",
     "text": [
      "Q1: 55.0, Q3: 100.0, IQR: 45.0\n",
      "异常值边界: [-12.5, 167.5]\n",
      "Attack 异常值数量: 9\n",
      "异常值数据:\n",
      "                        Name  Attack\n",
      "9                   Squirtle   840.0\n",
      "140                   Tauros  1000.0\n",
      "165      MewtwoMega Mewtwo X   190.0\n",
      "237  HeracrossMega Heracross   185.0\n",
      "430    GroudonPrimal Groudon   180.0\n",
      "432    RayquazaMega Rayquaza   180.0\n",
      "435       DeoxysAttack Forme   180.0\n",
      "500    GarchompMega Garchomp   170.0\n",
      "717       KyuremBlack Kyurem   170.0\n"
     ]
    }
   ],
   "source": [
    "# 5. 分析Attack属性分布并处理异常值\n",
    "# 设置中文字体\n",
    "plt.rcParams['font.sans-serif'] = ['SimHei', 'Microsoft YaHei', 'DejaVu Sans']\n",
    "plt.rcParams['axes.unicode_minus'] = False\n",
    "\n",
    "# 转换数据类型为数值型\n",
    "df_clean['Attack'] = pd.to_numeric(df_clean['Attack'], errors='coerce')\n",
    "\n",
    "# 绘制Attack属性直方图\n",
    "plt.figure(figsize=(8, 6))\n",
    "plt.hist(df_clean['Attack'].dropna(), bins=20, alpha=0.7, edgecolor='black')\n",
    "plt.title('Attack 属性分布')\n",
    "plt.xlabel('Attack 值')\n",
    "plt.ylabel('频数')\n",
    "plt.show()\n",
    "\n",
    "# 使用IQR方法识别异常值\n",
    "Q1 = df_clean['Attack'].quantile(0.25)\n",
    "Q3 = df_clean['Attack'].quantile(0.75)\n",
    "IQR = Q3 - Q1\n",
    "lower_bound = Q1 - 1.5 * IQR\n",
    "upper_bound = Q3 + 1.5 * IQR\n",
    "\n",
    "print(f\"Q1: {Q1}, Q3: {Q3}, IQR: {IQR}\")\n",
    "print(f\"异常值边界: [{lower_bound}, {upper_bound}]\")\n",
    "\n",
    "outliers = df_clean[(df_clean['Attack'] < lower_bound) | (df_clean['Attack'] > upper_bound)]\n",
    "print(f\"Attack 异常值数量: {len(outliers)}\")\n",
    "\n",
    "if len(outliers) > 0:\n",
    "    print(\"异常值数据:\")\n",
    "    print(outliers[['Name', 'Attack']])\n",
    "    # 使用中位数替换异常值\n",
    "    median_attack = df_clean['Attack'].median()\n",
    "    df_clean.loc[df_clean['Attack'] > upper_bound, 'Attack'] = median_attack\n",
    "    df_clean.loc[df_clean['Attack'] < lower_bound, 'Attack'] = median_attack\n",
    "else:\n",
    "    print(\"未发现异常值\")"
   ]
  },
  {
   "cell_type": "code",
   "execution_count": 10,
   "id": "9b51ee3f-b0ca-4033-80b5-fcd900140671",
   "metadata": {},
   "outputs": [
    {
     "name": "stdout",
     "output_type": "stream",
     "text": [
      "发现置换行: Blastoise\n",
      "  原始: Generation=FALSE, Legendary=1\n",
      "  修正后: Generation=1, Legendary=FALSE\n",
      "发现置换行: Pikachu\n",
      "  原始: Generation=FALSE, Legendary=0\n",
      "  修正后: Generation=0, Legendary=FALSE\n"
     ]
    }
   ],
   "source": [
    "# 6. 修正Generation和Legendary属性的置换错误\n",
    "# 查找并交换置换的属性值\n",
    "for idx, row in df_clean.iterrows():\n",
    "    gen_val = str(row['Generation'])\n",
    "    leg_val = str(row['Legendary'])\n",
    "    # 判断是否存在属性置换（Generation为文本，Legendary为数字）\n",
    "    if gen_val.isalpha() and leg_val.isdigit():\n",
    "        print(f\"发现置换行: {row['Name']}\")\n",
    "        print(f\"  原始: Generation={gen_val}, Legendary={leg_val}\")\n",
    "        # 交换值\n",
    "        df_clean.at[idx, 'Generation'] = leg_val\n",
    "        df_clean.at[idx, 'Legendary'] = gen_val\n",
    "        print(f\"  修正后: Generation={leg_val}, Legendary={gen_val}\")\n",
    "\n",
    "# 转换Generation列的数据类型为数值型\n",
    "df_clean['Generation'] = pd.to_numeric(df_clean['Generation'], errors='coerce')"
   ]
  },
  {
   "cell_type": "code",
   "execution_count": null,
   "id": "de154062-db1e-42b4-bd6a-dcf685c07f3f",
   "metadata": {},
   "outputs": [],
   "source": []
  }
 ],
 "metadata": {
  "kernelspec": {
   "display_name": "Python 3 (ipykernel)",
   "language": "python",
   "name": "python3"
  },
  "language_info": {
   "codemirror_mode": {
    "name": "ipython",
    "version": 3
   },
   "file_extension": ".py",
   "mimetype": "text/x-python",
   "name": "python",
   "nbconvert_exporter": "python",
   "pygments_lexer": "ipython3",
   "version": "3.11.7"
  }
 },
 "nbformat": 4,
 "nbformat_minor": 5
}
